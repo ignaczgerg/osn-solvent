{
 "cells": [
  {
   "cell_type": "code",
   "execution_count": 2,
   "metadata": {},
   "outputs": [],
   "source": [
    "import pandas as pd\n",
    "import numpy as np"
   ]
  },
  {
   "cell_type": "code",
   "execution_count": 3,
   "metadata": {},
   "outputs": [],
   "source": [
    "main = pd.read_csv(r'./data/train_dm300.csv')"
   ]
  },
  {
   "cell_type": "code",
   "execution_count": 23,
   "metadata": {},
   "outputs": [],
   "source": [
    "solvents = [\"meoh\", \"etoh\", \"ipa\", \"tol\", \"hept\", \"acet\", \"mecn\", \"mtbe\", \"methf\", \"dmf\", \"etoac\"]\n",
    "solvent_names = {\"Methanol\":\"Methanol\", \n",
    "                \"Ethanol\":\"Ethanol\", \n",
    "                \"2-Propanol\":\"2-Propanol\", \n",
    "                \"Toluene\":\"Toluene\", \n",
    "                \"Heptane\":\"Heptane\", \n",
    "                \"Acetone\":\"Acetone\", \n",
    "                \"Acetonitrile\":\"Acetonitrile\", \n",
    "                \"Methyl tert butyl ether\":\"Methyl tert-butyl ether\", \n",
    "                \"2-Methly tetrahydrofurane\":\"2-Methyl tetrahydrofurane\",\n",
    "                \"Dimethyl formamide\":\"Dimethyl formamide\", \n",
    "                \"Etyl acetate\":\"Ethyl acetate\" }\n",
    "\n",
    "solvent_lst = []\n",
    "for solvent, name in zip(solvents, solvent_names.keys()):\n",
    "    solvent_lst.append(main[main['solvent_name']==name])"
   ]
  },
  {
   "cell_type": "code",
   "execution_count": 31,
   "metadata": {},
   "outputs": [
    {
     "name": "stdout",
     "output_type": "stream",
     "text": [
      "meoh sum: 417\n",
      "meoh avg: 0.6842485645933014\n",
      "meoh var: 0.07672679929219797\n",
      "meoh avg-error: nan\n",
      "######\n",
      "etoh sum: 56\n",
      "etoh avg: 0.6518789127857144\n",
      "etoh var: 0.07796485580259742\n",
      "etoh avg-error: 0.012751035000000003\n",
      "######\n",
      "ipa sum: 57\n",
      "ipa avg: 0.48421969319298247\n",
      "ipa var: 0.11003462990898161\n",
      "ipa avg-error: 0.055375342122807016\n",
      "######\n",
      "tol sum: 48\n",
      "tol avg: 0.18118207624999996\n",
      "tol var: 0.07522828422403045\n",
      "tol avg-error: 0.042297675708333336\n",
      "######\n",
      "hept sum: 49\n",
      "hept avg: -0.06786867312244899\n",
      "hept var: 0.003579749365575864\n",
      "hept avg-error: 0.047257873244897955\n",
      "######\n",
      "acet sum: 96\n",
      "acet avg: 0.7601773588333334\n",
      "acet var: 0.039423134229052366\n",
      "acet avg-error: 0.03640860760416667\n",
      "######\n",
      "mecn sum: 148\n",
      "mecn avg: 0.7382081068783783\n",
      "mecn var: 0.04665259108706347\n",
      "mecn avg-error: 0.01459425024324324\n",
      "######\n",
      "mtbe sum: 51\n",
      "mtbe avg: 0.03464909941176471\n",
      "mtbe var: 0.04213900069254556\n",
      "mtbe avg-error: 0.11915663733333336\n",
      "######\n",
      "methf sum: 59\n",
      "methf avg: 0.4237255229661017\n",
      "methf var: 0.06846543717678204\n",
      "methf avg-error: 0.0553778062542373\n",
      "######\n",
      "dmf sum: 123\n",
      "dmf avg: 0.6718759361707317\n",
      "dmf var: 0.07368314379340896\n",
      "dmf avg-error: 0.016163064682926827\n",
      "######\n",
      "etoac sum: 65\n",
      "etoac avg: 0.43978093467692314\n",
      "etoac var: 0.04951437952927394\n",
      "etoac avg-error: 0.08883822636923076\n",
      "######\n"
     ]
    }
   ],
   "source": [
    "for indx, sol in enumerate(solvent_lst):\n",
    "    print(solvents[indx] + \" sum: \" + str(np.count_nonzero(sol[\"dm300\"])))\n",
    "    print(solvents[indx] + \" avg: \" + str(np.average(sol[\"dm300\"])))\n",
    "    print(solvents[indx] + \" var: \" + str(np.var(sol[\"dm300\"])))\n",
    "    print(solvents[indx] + \" avg-error: \" + str(np.average(sol[\"dm300_error\"])))\n",
    "    print(\"######\")\n"
   ]
  },
  {
   "cell_type": "code",
   "execution_count": 22,
   "metadata": {},
   "outputs": [
    {
     "data": {
      "text/html": [
       "<div>\n",
       "<style scoped>\n",
       "    .dataframe tbody tr th:only-of-type {\n",
       "        vertical-align: middle;\n",
       "    }\n",
       "\n",
       "    .dataframe tbody tr th {\n",
       "        vertical-align: top;\n",
       "    }\n",
       "\n",
       "    .dataframe thead th {\n",
       "        text-align: right;\n",
       "    }\n",
       "</style>\n",
       "<table border=\"1\" class=\"dataframe\">\n",
       "  <thead>\n",
       "    <tr style=\"text-align: right;\">\n",
       "      <th></th>\n",
       "      <th>name</th>\n",
       "      <th>container</th>\n",
       "      <th>cas</th>\n",
       "      <th>mw</th>\n",
       "      <th>solute_smiles</th>\n",
       "      <th>solvent_smiles</th>\n",
       "      <th>solvent_name</th>\n",
       "      <th>dm300</th>\n",
       "      <th>dm300_error</th>\n",
       "    </tr>\n",
       "  </thead>\n",
       "  <tbody>\n",
       "  </tbody>\n",
       "</table>\n",
       "</div>"
      ],
      "text/plain": [
       "Empty DataFrame\n",
       "Columns: [name, container, cas, mw, solute_smiles, solvent_smiles, solvent_name, dm300, dm300_error]\n",
       "Index: []"
      ]
     },
     "execution_count": 22,
     "metadata": {},
     "output_type": "execute_result"
    }
   ],
   "source": [
    "solvent_lst[7]"
   ]
  },
  {
   "cell_type": "code",
   "execution_count": null,
   "metadata": {},
   "outputs": [],
   "source": []
  }
 ],
 "metadata": {
  "kernelspec": {
   "display_name": "Python 3.8.10 ('mordred')",
   "language": "python",
   "name": "python3"
  },
  "language_info": {
   "codemirror_mode": {
    "name": "ipython",
    "version": 3
   },
   "file_extension": ".py",
   "mimetype": "text/x-python",
   "name": "python",
   "nbconvert_exporter": "python",
   "pygments_lexer": "ipython3",
   "version": "3.8.10"
  },
  "orig_nbformat": 4,
  "vscode": {
   "interpreter": {
    "hash": "0aa4e8675c74d088667059faeed7c79ff4d12df709bae3274d15508dcd405ce4"
   }
  }
 },
 "nbformat": 4,
 "nbformat_minor": 2
}
