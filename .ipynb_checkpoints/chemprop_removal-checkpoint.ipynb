{
 "cells": [
  {
   "cell_type": "code",
   "execution_count": 1,
   "metadata": {},
   "outputs": [
    {
     "name": "stderr",
     "output_type": "stream",
     "text": [
      "WARNING:root:No normalization for BCUT2D_MWHI\n",
      "WARNING:root:No normalization for BCUT2D_MWLOW\n",
      "WARNING:root:No normalization for BCUT2D_CHGHI\n",
      "WARNING:root:No normalization for BCUT2D_CHGLO\n",
      "WARNING:root:No normalization for BCUT2D_LOGPHI\n",
      "WARNING:root:No normalization for BCUT2D_LOGPLOW\n",
      "WARNING:root:No normalization for BCUT2D_MRHI\n",
      "WARNING:root:No normalization for BCUT2D_MRLOW\n"
     ]
    }
   ],
   "source": [
    "import chemprop\n",
    "import pandas as pd\n",
    "import numpy as np"
   ]
  },
  {
   "cell_type": "code",
   "execution_count": 3,
   "metadata": {},
   "outputs": [],
   "source": [
    "original = pd.read_csv(r'./data/train_dm300_full.csv')"
   ]
  },
  {
   "cell_type": "code",
   "execution_count": 4,
   "metadata": {},
   "outputs": [
    {
     "name": "stdout",
     "output_type": "stream",
     "text": [
      "0th cycle\n"
     ]
    },
    {
     "name": "stderr",
     "output_type": "stream",
     "text": [
      "1120it [00:00, 83794.80it/s]\n",
      "100%|████████████████████████████████████████████████████████████| 1120/1120 [00:00<00:00, 305000.68it/s]\n",
      "100%|██████████████████████████████████████████████████████████████| 1120/1120 [00:00<00:00, 8773.73it/s]\n",
      "Fold 0\n",
      "  0%|                                                                              | 0/3 [00:00<?, ?it/s]\n",
      "  0%|                                                                             | 0/18 [00:00<?, ?it/s]\u001b[A\n",
      "  6%|███▊                                                                 | 1/18 [00:00<00:07,  2.37it/s]\u001b[A\n",
      " 17%|███████████▌                                                         | 3/18 [00:00<00:03,  4.70it/s]\u001b[A\n",
      " 28%|███████████████████▏                                                 | 5/18 [00:00<00:01,  7.06it/s]\u001b[A\n",
      " 39%|██████████████████████████▊                                          | 7/18 [00:01<00:01,  8.56it/s]\u001b[A\n",
      " 50%|██████████████████████████████████▌                                  | 9/18 [00:01<00:00,  9.67it/s]\u001b[A\n",
      " 61%|█████████████████████████████████████████▌                          | 11/18 [00:01<00:00, 10.18it/s]\u001b[A\n",
      " 72%|█████████████████████████████████████████████████                   | 13/18 [00:01<00:00, 10.98it/s]\u001b[A\n",
      " 83%|████████████████████████████████████████████████████████▋           | 15/18 [00:01<00:00, 11.43it/s]\u001b[A\n",
      " 94%|████████████████████████████████████████████████████████████████▏   | 17/18 [00:01<00:00, 11.59it/s]\u001b[A\n",
      "                                                                                                         \u001b[A\n",
      "  0%|                                                                              | 0/5 [00:00<?, ?it/s]\u001b[A\n",
      " 40%|████████████████████████████                                          | 2/5 [00:00<00:00, 16.18it/s]\u001b[A\n",
      " 80%|████████████████████████████████████████████████████████              | 4/5 [00:00<00:00, 10.05it/s]\u001b[A\n",
      " 33%|███████████████████████▎                                              | 1/3 [00:02<00:04,  2.40s/it]\u001b[A\n",
      "  0%|                                                                             | 0/18 [00:00<?, ?it/s]\u001b[A\n",
      " 22%|███████████████▎                                                     | 4/18 [00:00<00:00, 35.32it/s]\u001b[A\n",
      " 44%|██████████████████████████████▋                                      | 8/18 [00:00<00:00, 35.12it/s]\u001b[A\n",
      " 67%|█████████████████████████████████████████████▎                      | 12/18 [00:00<00:00, 34.46it/s]\u001b[A\n",
      " 89%|████████████████████████████████████████████████████████████▍       | 16/18 [00:00<00:00, 32.47it/s]\u001b[A\n",
      "                                                                                                         \u001b[A\n",
      "  0%|                                                                              | 0/5 [00:00<?, ?it/s]\u001b[A\n",
      " 67%|██████████████████████████████████████████████▋                       | 2/3 [00:03<00:01,  1.41s/it]\u001b[A\n",
      "  0%|                                                                             | 0/18 [00:00<?, ?it/s]\u001b[A\n",
      " 22%|███████████████▎                                                     | 4/18 [00:00<00:00, 32.06it/s]\u001b[A\n",
      " 44%|██████████████████████████████▋                                      | 8/18 [00:00<00:00, 24.55it/s]\u001b[A\n",
      " 61%|█████████████████████████████████████████▌                          | 11/18 [00:00<00:00, 26.23it/s]\u001b[A\n",
      " 83%|████████████████████████████████████████████████████████▋           | 15/18 [00:00<00:00, 28.97it/s]\u001b[A\n",
      "                                                                                                         \u001b[A\n",
      "  0%|                                                                              | 0/5 [00:00<?, ?it/s]\u001b[A\n",
      "100%|██████████████████████████████████████████████████████████████████████| 3/3 [00:03<00:00,  1.29s/it]\u001b[A\n",
      "Model 0 best validation rmse = 0.233251 on epoch 2\n",
      "Model 0 test rmse = 0.253231                                                                             \n",
      "Ensemble test rmse = 0.253231\n",
      "1-fold cross validation\n",
      "\tSeed 0 ==> test rmse = 0.253231\n",
      "Overall test rmse = 0.253231 +/- 0.000000\n",
      "Elapsed time = 0:00:07\n"
     ]
    },
    {
     "name": "stdout",
     "output_type": "stream",
     "text": [
      "Loading training args\n",
      "Setting molecule featurization parameters to default.\n",
      "Loading data\n"
     ]
    },
    {
     "name": "stderr",
     "output_type": "stream",
     "text": [
      "1120it [00:00, 164419.18it/s]\n",
      "100%|████████████████████████████████████████████████████████████| 1120/1120 [00:00<00:00, 290694.34it/s]\n"
     ]
    },
    {
     "name": "stdout",
     "output_type": "stream",
     "text": [
      "Validating SMILES\n",
      "Test size = 1,120\n",
      "Predicting with an ensemble of 1 models\n"
     ]
    },
    {
     "name": "stderr",
     "output_type": "stream",
     "text": [
      "\r",
      "  0%|                                                                              | 0/1 [00:00<?, ?it/s]"
     ]
    },
    {
     "name": "stdout",
     "output_type": "stream",
     "text": [
      "Loading pretrained parameter \"encoder.encoder.0.cached_zero_vector\".\n",
      "Loading pretrained parameter \"encoder.encoder.0.W_i.weight\".\n",
      "Loading pretrained parameter \"encoder.encoder.0.W_h.weight\".\n",
      "Loading pretrained parameter \"encoder.encoder.0.W_o.weight\".\n",
      "Loading pretrained parameter \"encoder.encoder.0.W_o.bias\".\n",
      "Loading pretrained parameter \"ffn.1.weight\".\n",
      "Loading pretrained parameter \"ffn.1.bias\".\n",
      "Loading pretrained parameter \"ffn.4.weight\".\n",
      "Loading pretrained parameter \"ffn.4.bias\".\n",
      "Moving model to cuda\n"
     ]
    },
    {
     "name": "stderr",
     "output_type": "stream",
     "text": [
      "\n",
      "  0%|                                                                             | 0/23 [00:00<?, ?it/s]\u001b[A\n",
      "  4%|███                                                                  | 1/23 [00:00<00:11,  1.98it/s]\u001b[A\n",
      " 30%|█████████████████████                                                | 7/23 [00:00<00:01, 14.42it/s]\u001b[A\n",
      " 83%|████████████████████████████████████████████████████████▏           | 19/23 [00:00<00:00, 39.23it/s]\u001b[A\n",
      "100%|██████████████████████████████████████████████████████████████████████| 1/1 [00:00<00:00,  1.09it/s]\u001b[A\n"
     ]
    },
    {
     "name": "stdout",
     "output_type": "stream",
     "text": [
      "Saving predictions to ./data/predictions/_temp.csv\n",
      "Elapsed time = 0:00:01\n",
      "#############################\n",
      "ORIGINAL 1120\n",
      "#############################\n",
      "TEMP 1120\n",
      "1th cycle\n"
     ]
    },
    {
     "name": "stderr",
     "output_type": "stream",
     "text": [
      "1110it [00:00, 89332.98it/s]\n",
      "100%|████████████████████████████████████████████████████████████| 1110/1110 [00:00<00:00, 274541.66it/s]\n",
      "100%|█████████████████████████████████████████████████████████████| 1110/1110 [00:00<00:00, 80201.16it/s]\n",
      "Fold 0\n",
      "  0%|                                                                              | 0/3 [00:00<?, ?it/s]\n",
      "  0%|                                                                             | 0/18 [00:00<?, ?it/s]\u001b[A\n",
      " 17%|███████████▌                                                         | 3/18 [00:00<00:00, 29.35it/s]\u001b[A\n",
      " 39%|██████████████████████████▊                                          | 7/18 [00:00<00:00, 35.56it/s]\u001b[A\n",
      " 61%|█████████████████████████████████████████▌                          | 11/18 [00:00<00:00, 34.88it/s]\u001b[A\n",
      " 83%|████████████████████████████████████████████████████████▋           | 15/18 [00:00<00:00, 35.16it/s]\u001b[A\n",
      "                                                                                                         \u001b[A\n",
      "  0%|                                                                              | 0/5 [00:00<?, ?it/s]\u001b[A\n",
      "100%|██████████████████████████████████████████████████████████████████████| 5/5 [00:00<00:00, 49.72it/s]\u001b[A\n",
      " 33%|███████████████████████▎                                              | 1/3 [00:00<00:01,  1.43it/s]\u001b[A\n",
      "  0%|                                                                             | 0/18 [00:00<?, ?it/s]\u001b[A\n",
      " 17%|███████████▌                                                         | 3/18 [00:00<00:00, 23.85it/s]\u001b[A\n",
      " 39%|██████████████████████████▊                                          | 7/18 [00:00<00:00, 28.96it/s]\u001b[A\n",
      " 56%|█████████████████████████████████████▊                              | 10/18 [00:00<00:00, 28.17it/s]\u001b[A\n",
      " 72%|█████████████████████████████████████████████████                   | 13/18 [00:00<00:00, 25.69it/s]\u001b[A\n",
      " 94%|████████████████████████████████████████████████████████████████▏   | 17/18 [00:00<00:00, 28.07it/s]\u001b[A\n",
      "                                                                                                         \u001b[A\n",
      "  0%|                                                                              | 0/5 [00:00<?, ?it/s]\u001b[A\n",
      " 67%|██████████████████████████████████████████████▋                       | 2/3 [00:01<00:00,  1.33it/s]\u001b[A\n",
      "  0%|                                                                             | 0/18 [00:00<?, ?it/s]\u001b[A\n",
      " 22%|███████████████▎                                                     | 4/18 [00:00<00:00, 37.70it/s]\u001b[A\n",
      " 44%|██████████████████████████████▋                                      | 8/18 [00:00<00:00, 33.74it/s]\u001b[A\n",
      " 67%|█████████████████████████████████████████████▎                      | 12/18 [00:00<00:00, 34.86it/s]\u001b[A\n",
      " 89%|████████████████████████████████████████████████████████████▍       | 16/18 [00:00<00:00, 34.92it/s]\u001b[A\n",
      "                                                                                                         \u001b[A\n",
      "  0%|                                                                              | 0/5 [00:00<?, ?it/s]\u001b[A\n",
      "100%|██████████████████████████████████████████████████████████████████████| 3/3 [00:02<00:00,  1.38it/s]\u001b[A\n",
      "Model 0 best validation rmse = 0.239688 on epoch 2\n",
      "Model 0 test rmse = 0.206352                                                                             \n",
      "Ensemble test rmse = 0.206352\n",
      "1-fold cross validation\n",
      "\tSeed 0 ==> test rmse = 0.206352\n",
      "Overall test rmse = 0.206352 +/- 0.000000\n",
      "Elapsed time = 0:00:03\n"
     ]
    },
    {
     "name": "stdout",
     "output_type": "stream",
     "text": [
      "Loading training args\n",
      "Setting molecule featurization parameters to default.\n",
      "Loading data\n"
     ]
    },
    {
     "name": "stderr",
     "output_type": "stream",
     "text": [
      "1110it [00:00, 90006.52it/s]\n",
      "100%|████████████████████████████████████████████████████████████| 1110/1110 [00:00<00:00, 345812.78it/s]\n"
     ]
    },
    {
     "name": "stdout",
     "output_type": "stream",
     "text": [
      "Validating SMILES\n",
      "Test size = 1,110\n",
      "Predicting with an ensemble of 1 models\n"
     ]
    },
    {
     "name": "stderr",
     "output_type": "stream",
     "text": [
      "\r",
      "  0%|                                                                              | 0/1 [00:00<?, ?it/s]"
     ]
    },
    {
     "name": "stdout",
     "output_type": "stream",
     "text": [
      "Loading pretrained parameter \"encoder.encoder.0.cached_zero_vector\".\n",
      "Loading pretrained parameter \"encoder.encoder.0.W_i.weight\".\n",
      "Loading pretrained parameter \"encoder.encoder.0.W_h.weight\".\n",
      "Loading pretrained parameter \"encoder.encoder.0.W_o.weight\".\n",
      "Loading pretrained parameter \"encoder.encoder.0.W_o.bias\".\n",
      "Loading pretrained parameter \"ffn.1.weight\".\n",
      "Loading pretrained parameter \"ffn.1.bias\".\n",
      "Loading pretrained parameter \"ffn.4.weight\".\n",
      "Loading pretrained parameter \"ffn.4.bias\".\n",
      "Moving model to cuda\n"
     ]
    },
    {
     "name": "stderr",
     "output_type": "stream",
     "text": [
      "\n",
      "  0%|                                                                             | 0/23 [00:00<?, ?it/s]\u001b[A\n",
      "  4%|███                                                                  | 1/23 [00:00<00:10,  2.08it/s]\u001b[A\n",
      " 35%|████████████████████████                                             | 8/23 [00:00<00:00, 16.66it/s]\u001b[A\n",
      "100%|██████████████████████████████████████████████████████████████████████| 1/1 [00:00<00:00,  1.17it/s]\u001b[A\n"
     ]
    },
    {
     "name": "stdout",
     "output_type": "stream",
     "text": [
      "Saving predictions to ./data/predictions/_temp.csv\n",
      "Elapsed time = 0:00:01\n",
      "#############################\n",
      "ORIGINAL 1110\n",
      "#############################\n",
      "TEMP 1110\n",
      "2th cycle\n"
     ]
    },
    {
     "name": "stderr",
     "output_type": "stream",
     "text": [
      "1100it [00:00, 81654.68it/s]\n",
      "100%|████████████████████████████████████████████████████████████| 1100/1100 [00:00<00:00, 327586.94it/s]\n",
      "100%|█████████████████████████████████████████████████████████████| 1100/1100 [00:00<00:00, 78936.07it/s]\n",
      "Fold 0\n",
      "  0%|                                                                              | 0/3 [00:00<?, ?it/s]\n",
      "  0%|                                                                             | 0/18 [00:00<?, ?it/s]\u001b[A\n",
      " 22%|███████████████▎                                                     | 4/18 [00:00<00:00, 32.41it/s]\u001b[A\n",
      " 44%|██████████████████████████████▋                                      | 8/18 [00:00<00:00, 31.33it/s]\u001b[A\n",
      " 67%|█████████████████████████████████████████████▎                      | 12/18 [00:00<00:00, 29.32it/s]\u001b[A\n",
      " 83%|████████████████████████████████████████████████████████▋           | 15/18 [00:00<00:00, 27.43it/s]\u001b[A\n",
      "                                                                                                         \u001b[A\n",
      "  0%|                                                                              | 0/5 [00:00<?, ?it/s]\u001b[A\n",
      "100%|██████████████████████████████████████████████████████████████████████| 5/5 [00:00<00:00, 45.96it/s]\u001b[A\n",
      " 33%|███████████████████████▎                                              | 1/3 [00:00<00:01,  1.23it/s]\u001b[A\n",
      "  0%|                                                                             | 0/18 [00:00<?, ?it/s]\u001b[A\n",
      " 17%|███████████▌                                                         | 3/18 [00:00<00:00, 22.79it/s]\u001b[A\n",
      " 39%|██████████████████████████▊                                          | 7/18 [00:00<00:00, 28.89it/s]\u001b[A\n",
      " 61%|█████████████████████████████████████████▌                          | 11/18 [00:00<00:00, 31.04it/s]\u001b[A\n",
      " 83%|████████████████████████████████████████████████████████▋           | 15/18 [00:00<00:00, 31.00it/s]\u001b[A\n",
      "                                                                                                         \u001b[A\n",
      "  0%|                                                                              | 0/5 [00:00<?, ?it/s]\u001b[A\n",
      " 67%|██████████████████████████████████████████████▋                       | 2/3 [00:01<00:00,  1.30it/s]\u001b[A\n",
      "  0%|                                                                             | 0/18 [00:00<?, ?it/s]\u001b[A\n",
      " 22%|███████████████▎                                                     | 4/18 [00:00<00:00, 38.44it/s]\u001b[A\n",
      " 44%|██████████████████████████████▋                                      | 8/18 [00:00<00:00, 35.92it/s]\u001b[A\n",
      " 67%|█████████████████████████████████████████████▎                      | 12/18 [00:00<00:00, 21.09it/s]\u001b[A\n",
      " 89%|████████████████████████████████████████████████████████████▍       | 16/18 [00:00<00:00, 25.30it/s]\u001b[A\n",
      "                                                                                                         \u001b[A\n",
      "  0%|                                                                              | 0/5 [00:00<?, ?it/s]\u001b[A\n",
      "100%|██████████████████████████████████████████████████████████████████████| 3/3 [00:02<00:00,  1.27it/s]\u001b[A\n",
      "Model 0 best validation rmse = 0.220700 on epoch 2\n",
      "Model 0 test rmse = 0.238239                                                                             \n",
      "Ensemble test rmse = 0.238239\n",
      "1-fold cross validation\n",
      "\tSeed 0 ==> test rmse = 0.238239\n",
      "Overall test rmse = 0.238239 +/- 0.000000\n",
      "Elapsed time = 0:00:03\n"
     ]
    },
    {
     "name": "stdout",
     "output_type": "stream",
     "text": [
      "Loading training args\n",
      "Setting molecule featurization parameters to default.\n",
      "Loading data\n"
     ]
    },
    {
     "name": "stderr",
     "output_type": "stream",
     "text": [
      "1100it [00:00, 145099.68it/s]\n",
      "100%|████████████████████████████████████████████████████████████| 1100/1100 [00:00<00:00, 327773.12it/s]\n"
     ]
    },
    {
     "name": "stdout",
     "output_type": "stream",
     "text": [
      "Validating SMILES\n",
      "Test size = 1,100\n",
      "Predicting with an ensemble of 1 models\n"
     ]
    },
    {
     "name": "stderr",
     "output_type": "stream",
     "text": [
      "\r",
      "  0%|                                                                              | 0/1 [00:00<?, ?it/s]"
     ]
    },
    {
     "name": "stdout",
     "output_type": "stream",
     "text": [
      "Loading pretrained parameter \"encoder.encoder.0.cached_zero_vector\".\n",
      "Loading pretrained parameter \"encoder.encoder.0.W_i.weight\".\n",
      "Loading pretrained parameter \"encoder.encoder.0.W_h.weight\".\n",
      "Loading pretrained parameter \"encoder.encoder.0.W_o.weight\".\n",
      "Loading pretrained parameter \"encoder.encoder.0.W_o.bias\".\n",
      "Loading pretrained parameter \"ffn.1.weight\".\n",
      "Loading pretrained parameter \"ffn.1.bias\".\n",
      "Loading pretrained parameter \"ffn.4.weight\".\n",
      "Loading pretrained parameter \"ffn.4.bias\".\n",
      "Moving model to cuda\n"
     ]
    },
    {
     "name": "stderr",
     "output_type": "stream",
     "text": [
      "\n",
      "  0%|                                                                             | 0/22 [00:00<?, ?it/s]\u001b[A\n",
      "  5%|███▏                                                                 | 1/22 [00:00<00:10,  1.97it/s]\u001b[A\n",
      " 36%|█████████████████████████                                            | 8/22 [00:00<00:00, 16.38it/s]\u001b[A\n",
      "100%|██████████████████████████████████████████████████████████████████████| 1/1 [00:00<00:00,  1.12it/s]\u001b[A\n"
     ]
    },
    {
     "name": "stdout",
     "output_type": "stream",
     "text": [
      "Saving predictions to ./data/predictions/_temp.csv\n",
      "Elapsed time = 0:00:01\n",
      "#############################\n",
      "ORIGINAL 1100\n",
      "#############################\n",
      "TEMP 1100\n",
      "3th cycle\n"
     ]
    },
    {
     "name": "stderr",
     "output_type": "stream",
     "text": [
      "1090it [00:00, 78609.84it/s]\n",
      "100%|████████████████████████████████████████████████████████████| 1090/1090 [00:00<00:00, 292426.21it/s]\n",
      "100%|█████████████████████████████████████████████████████████████| 1090/1090 [00:00<00:00, 94933.16it/s]\n",
      "Fold 0\n",
      "  0%|                                                                              | 0/3 [00:00<?, ?it/s]\n",
      "  0%|                                                                             | 0/18 [00:00<?, ?it/s]\u001b[A\n",
      " 17%|███████████▌                                                         | 3/18 [00:00<00:00, 29.18it/s]\u001b[A\n",
      " 33%|███████████████████████                                              | 6/18 [00:00<00:00, 26.85it/s]\u001b[A\n",
      " 50%|██████████████████████████████████▌                                  | 9/18 [00:00<00:00, 26.02it/s]\u001b[A\n",
      " 67%|█████████████████████████████████████████████▎                      | 12/18 [00:00<00:00, 26.49it/s]\u001b[A\n",
      " 89%|████████████████████████████████████████████████████████████▍       | 16/18 [00:00<00:00, 29.36it/s]\u001b[A\n",
      "                                                                                                         \u001b[A\n",
      "  0%|                                                                              | 0/5 [00:00<?, ?it/s]\u001b[A\n",
      " 33%|███████████████████████▎                                              | 1/3 [00:00<00:01,  1.31it/s]\u001b[A\n",
      "  0%|                                                                             | 0/18 [00:00<?, ?it/s]\u001b[A\n",
      " 17%|███████████▌                                                         | 3/18 [00:00<00:00, 29.49it/s]\u001b[A\n",
      " 39%|██████████████████████████▊                                          | 7/18 [00:00<00:00, 30.70it/s]\u001b[A\n",
      " 61%|█████████████████████████████████████████▌                          | 11/18 [00:00<00:00, 33.22it/s]\u001b[A\n",
      " 83%|████████████████████████████████████████████████████████▋           | 15/18 [00:00<00:00, 33.10it/s]\u001b[A\n",
      "                                                                                                         \u001b[A\n",
      "  0%|                                                                              | 0/5 [00:00<?, ?it/s]\u001b[A\n",
      " 67%|██████████████████████████████████████████████▋                       | 2/3 [00:01<00:00,  1.37it/s]\u001b[A\n",
      "  0%|                                                                             | 0/18 [00:00<?, ?it/s]\u001b[A\n",
      " 22%|███████████████▎                                                     | 4/18 [00:00<00:00, 37.17it/s]\u001b[A\n",
      " 44%|██████████████████████████████▋                                      | 8/18 [00:00<00:00, 33.52it/s]\u001b[A\n",
      " 67%|█████████████████████████████████████████████▎                      | 12/18 [00:00<00:00, 34.33it/s]\u001b[A\n",
      " 89%|████████████████████████████████████████████████████████████▍       | 16/18 [00:00<00:00, 34.45it/s]\u001b[A\n",
      "                                                                                                         \u001b[A\n",
      "  0%|                                                                              | 0/5 [00:00<?, ?it/s]\u001b[A\n",
      "100%|██████████████████████████████████████████████████████████████████████| 3/3 [00:02<00:00,  1.39it/s]\u001b[A\n",
      "Model 0 best validation rmse = 0.223729 on epoch 2\n",
      "Model 0 test rmse = 0.254037                                                                             \n",
      "Ensemble test rmse = 0.254037\n",
      "1-fold cross validation\n",
      "\tSeed 0 ==> test rmse = 0.254037\n",
      "Overall test rmse = 0.254037 +/- 0.000000\n",
      "Elapsed time = 0:00:03\n"
     ]
    },
    {
     "name": "stdout",
     "output_type": "stream",
     "text": [
      "Loading training args\n",
      "Setting molecule featurization parameters to default.\n",
      "Loading data\n"
     ]
    },
    {
     "name": "stderr",
     "output_type": "stream",
     "text": [
      "1090it [00:00, 110309.84it/s]\n",
      "100%|████████████████████████████████████████████████████████████| 1090/1090 [00:00<00:00, 301589.24it/s]\n"
     ]
    },
    {
     "name": "stdout",
     "output_type": "stream",
     "text": [
      "Validating SMILES\n",
      "Test size = 1,090\n",
      "Predicting with an ensemble of 1 models\n"
     ]
    },
    {
     "name": "stderr",
     "output_type": "stream",
     "text": [
      "\r",
      "  0%|                                                                              | 0/1 [00:00<?, ?it/s]"
     ]
    },
    {
     "name": "stdout",
     "output_type": "stream",
     "text": [
      "Loading pretrained parameter \"encoder.encoder.0.cached_zero_vector\".\n",
      "Loading pretrained parameter \"encoder.encoder.0.W_i.weight\".\n",
      "Loading pretrained parameter \"encoder.encoder.0.W_h.weight\".\n",
      "Loading pretrained parameter \"encoder.encoder.0.W_o.weight\".\n",
      "Loading pretrained parameter \"encoder.encoder.0.W_o.bias\".\n",
      "Loading pretrained parameter \"ffn.1.weight\".\n",
      "Loading pretrained parameter \"ffn.1.bias\".\n",
      "Loading pretrained parameter \"ffn.4.weight\".\n",
      "Loading pretrained parameter \"ffn.4.bias\".\n",
      "Moving model to cuda\n"
     ]
    },
    {
     "name": "stderr",
     "output_type": "stream",
     "text": [
      "\n",
      "  0%|                                                                             | 0/22 [00:00<?, ?it/s]\u001b[A\n",
      "  5%|███▏                                                                 | 1/22 [00:00<00:11,  1.78it/s]\u001b[A\n",
      " 32%|█████████████████████▉                                               | 7/22 [00:00<00:01, 13.49it/s]\u001b[A\n",
      " 55%|█████████████████████████████████████                               | 12/22 [00:00<00:00, 21.25it/s]\u001b[A\n",
      "100%|██████████████████████████████████████████████████████████████████████| 1/1 [00:01<00:00,  1.06s/it]\u001b[A\n"
     ]
    },
    {
     "name": "stdout",
     "output_type": "stream",
     "text": [
      "Saving predictions to ./data/predictions/_temp.csv\n",
      "Elapsed time = 0:00:01\n",
      "#############################\n",
      "ORIGINAL 1090\n",
      "#############################\n",
      "TEMP 1090\n",
      "4th cycle\n"
     ]
    },
    {
     "name": "stderr",
     "output_type": "stream",
     "text": [
      "1080it [00:00, 83205.03it/s]\n",
      "100%|████████████████████████████████████████████████████████████| 1080/1080 [00:00<00:00, 318801.35it/s]\n",
      "100%|█████████████████████████████████████████████████████████████| 1080/1080 [00:00<00:00, 78285.75it/s]\n",
      "Fold 0\n",
      "  0%|                                                                              | 0/3 [00:00<?, ?it/s]\n",
      "  0%|                                                                             | 0/18 [00:00<?, ?it/s]\u001b[A\n",
      " 22%|███████████████▎                                                     | 4/18 [00:00<00:00, 37.65it/s]\u001b[A\n",
      " 44%|██████████████████████████████▋                                      | 8/18 [00:00<00:00, 37.75it/s]\u001b[A\n",
      " 67%|█████████████████████████████████████████████▎                      | 12/18 [00:00<00:00, 33.41it/s]\u001b[A\n",
      " 89%|████████████████████████████████████████████████████████████▍       | 16/18 [00:00<00:00, 32.07it/s]\u001b[A\n",
      "                                                                                                         \u001b[A\n",
      "  0%|                                                                              | 0/5 [00:00<?, ?it/s]\u001b[A\n",
      " 33%|███████████████████████▎                                              | 1/3 [00:00<00:01,  1.50it/s]\u001b[A\n",
      "  0%|                                                                             | 0/18 [00:00<?, ?it/s]\u001b[A\n",
      " 22%|███████████████▎                                                     | 4/18 [00:00<00:00, 38.55it/s]\u001b[A\n",
      " 44%|██████████████████████████████▋                                      | 8/18 [00:00<00:00, 36.02it/s]\u001b[A\n",
      " 67%|█████████████████████████████████████████████▎                      | 12/18 [00:00<00:00, 36.16it/s]\u001b[A\n",
      " 89%|████████████████████████████████████████████████████████████▍       | 16/18 [00:00<00:00, 35.70it/s]\u001b[A\n",
      "                                                                                                         \u001b[A\n",
      "  0%|                                                                              | 0/5 [00:00<?, ?it/s]\u001b[A\n",
      " 67%|██████████████████████████████████████████████▋                       | 2/3 [00:01<00:00,  1.56it/s]\u001b[A\n",
      "  0%|                                                                             | 0/18 [00:00<?, ?it/s]\u001b[A\n",
      " 28%|███████████████████▏                                                 | 5/18 [00:00<00:00, 41.55it/s]\u001b[A\n",
      " 56%|█████████████████████████████████████▊                              | 10/18 [00:00<00:00, 30.98it/s]\u001b[A\n",
      " 78%|████████████████████████████████████████████████████▉               | 14/18 [00:00<00:00, 33.26it/s]\u001b[A\n",
      "                                                                                                         \u001b[A\n",
      "  0%|                                                                              | 0/5 [00:00<?, ?it/s]\u001b[A\n",
      "100%|██████████████████████████████████████████████████████████████████████| 3/3 [00:01<00:00,  1.53it/s]\u001b[A\n",
      "Model 0 best validation rmse = 0.219974 on epoch 2\n",
      "Model 0 test rmse = 0.305070                                                                             \n",
      "Ensemble test rmse = 0.305070\n",
      "1-fold cross validation\n",
      "\tSeed 0 ==> test rmse = 0.305070\n",
      "Overall test rmse = 0.305070 +/- 0.000000\n",
      "Elapsed time = 0:00:02\n"
     ]
    },
    {
     "name": "stdout",
     "output_type": "stream",
     "text": [
      "Loading training args\n",
      "Setting molecule featurization parameters to default.\n",
      "Loading data\n"
     ]
    },
    {
     "name": "stderr",
     "output_type": "stream",
     "text": [
      "1080it [00:00, 113772.41it/s]\n",
      "100%|████████████████████████████████████████████████████████████| 1080/1080 [00:00<00:00, 309225.77it/s]\n"
     ]
    },
    {
     "name": "stdout",
     "output_type": "stream",
     "text": [
      "Validating SMILES\n",
      "Test size = 1,080\n",
      "Predicting with an ensemble of 1 models\n"
     ]
    },
    {
     "name": "stderr",
     "output_type": "stream",
     "text": [
      "\r",
      "  0%|                                                                              | 0/1 [00:00<?, ?it/s]"
     ]
    },
    {
     "name": "stdout",
     "output_type": "stream",
     "text": [
      "Loading pretrained parameter \"encoder.encoder.0.cached_zero_vector\".\n",
      "Loading pretrained parameter \"encoder.encoder.0.W_i.weight\".\n",
      "Loading pretrained parameter \"encoder.encoder.0.W_h.weight\".\n",
      "Loading pretrained parameter \"encoder.encoder.0.W_o.weight\".\n",
      "Loading pretrained parameter \"encoder.encoder.0.W_o.bias\".\n",
      "Loading pretrained parameter \"ffn.1.weight\".\n",
      "Loading pretrained parameter \"ffn.1.bias\".\n",
      "Loading pretrained parameter \"ffn.4.weight\".\n",
      "Loading pretrained parameter \"ffn.4.bias\".\n",
      "Moving model to cuda\n"
     ]
    },
    {
     "name": "stderr",
     "output_type": "stream",
     "text": [
      "\n",
      "  0%|                                                                             | 0/22 [00:00<?, ?it/s]\u001b[A\n",
      "  5%|███▏                                                                 | 1/22 [00:00<00:11,  1.89it/s]\u001b[A\n",
      " 36%|█████████████████████████                                            | 8/22 [00:00<00:00, 14.56it/s]\u001b[A\n",
      " 86%|██████████████████████████████████████████████████████████▋         | 19/22 [00:00<00:00, 34.38it/s]\u001b[A\n",
      "100%|██████████████████████████████████████████████████████████████████████| 1/1 [00:01<00:00,  1.02s/it]\u001b[A"
     ]
    },
    {
     "name": "stdout",
     "output_type": "stream",
     "text": [
      "Saving predictions to ./data/predictions/_temp.csv\n",
      "Elapsed time = 0:00:01\n",
      "#############################\n",
      "ORIGINAL 1080\n",
      "#############################\n",
      "TEMP 1080\n"
     ]
    },
    {
     "name": "stderr",
     "output_type": "stream",
     "text": [
      "\n"
     ]
    }
   ],
   "source": [
    "#original = pd.read_csv(r'C:\\Users\\ignaczg\\Dropbox\\Gergo Ignacz\\Projects\\AI\\pims\\data\\perm_data_noned.csv')\n",
    "\n",
    "for i in range(5):\n",
    "    print(f'{i}th cycle')\n",
    "    arguments = [\n",
    "        '--data_path', './data/_train_dm300_full.csv',\n",
    "        '--dataset_type', 'regression',\n",
    "        '--save_dir', './data/train_results/removal/',\n",
    "        '--metric', 'rmse',\n",
    "        '--quiet',\n",
    "        '--split_sizes', '0.795', '0.2', '0.005',\n",
    "        '--target_columns', 'dm300',\n",
    "        '--smiles_column', 'full_smiles',\n",
    "        '--epochs', '3'\n",
    "        ]\n",
    "\n",
    "\n",
    "    args = chemprop.args.TrainArgs().parse_args(arguments)\n",
    "    mean_score, std_score = chemprop.train.cross_validate(args=args, train_func=chemprop.train.run_training)\n",
    "\n",
    "    arguments = [\n",
    "        '--test_path',  './data/_train_dm300_full.csv',\n",
    "        '--preds_path', './data/predictions/_temp.csv',\n",
    "        '--checkpoint_dir', './data/train_results/removal/',\n",
    "        '--smiles_column', 'full_smiles'\n",
    "        ]\n",
    "\n",
    "    args = chemprop.args.PredictArgs().parse_args(arguments)\n",
    "    preds = chemprop.train.make_predictions(args=args)\n",
    "\n",
    "    original = pd.read_csv(r'./data/_train_dm300_full.csv')\n",
    "    print('#############################')\n",
    "    print('ORIGINAL',len(original))\n",
    "    temp = pd.read_csv(r'./data/predictions/_temp.csv')\n",
    "    print('#############################')\n",
    "    print('TEMP',len(original))\n",
    "\n",
    "    temp.rename(columns={'dm300':'dm300_pred'}, inplace=True)\n",
    "\n",
    "    original['dm300_err'] = np.divide(np.subtract(temp['dm300_pred'], original['dm300']), original['dm300'])\n",
    "\n",
    "    # original['global_err'] = np.abs(np.divide(np.add(original['dm300_err'], np.add(original['d'], np.add(original['co2_err'], np.add(original['o2_err'], np.add(original['n2_err'], original['ch4_err']))))), 6))\n",
    "    original = original.sort_values('dm300_err', ascending=True)\n",
    "\n",
    "    original = original[10:]\n",
    "\n",
    "    original.to_csv(r'./data/_train_dm300_full.csv', sep=',')\n"
   ]
  },
  {
   "cell_type": "code",
   "execution_count": null,
   "metadata": {},
   "outputs": [],
   "source": []
  }
 ],
 "metadata": {
  "kernelspec": {
   "display_name": "Python 3 (ipykernel)",
   "language": "python",
   "name": "python3"
  },
  "language_info": {
   "codemirror_mode": {
    "name": "ipython",
    "version": 3
   },
   "file_extension": ".py",
   "mimetype": "text/x-python",
   "name": "python",
   "nbconvert_exporter": "python",
   "pygments_lexer": "ipython3",
   "version": "3.8.12"
  },
  "vscode": {
   "interpreter": {
    "hash": "7aa3a0c0e591cb7c8f9e6483ab376a87fa51814de4623543b7afc52b402faed0"
   }
  }
 },
 "nbformat": 4,
 "nbformat_minor": 2
}
