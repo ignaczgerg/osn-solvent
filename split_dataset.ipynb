{
 "cells": [
  {
   "cell_type": "code",
   "execution_count": 1,
   "metadata": {},
   "outputs": [],
   "source": [
    "import numpy as np\n",
    "import pandas as pd"
   ]
  },
  {
   "cell_type": "code",
   "execution_count": 2,
   "metadata": {},
   "outputs": [],
   "source": [
    "original = pd.read_csv(r'./data/train_dm300_full.csv')"
   ]
  },
  {
   "cell_type": "code",
   "execution_count": 5,
   "metadata": {},
   "outputs": [],
   "source": [
    "solvents = [\"MeOH\", \"EtOH\", \"IPA\", \"Tol\", \"Hept\", \"Acet\", \"MeCN\", \"MTBE\", \"MeTHF\", \"DMF\", \"EtOAc\"]\n",
    "solvent_names = {\"Methanol\":\"Methanol\", \n",
    "                \"Ethanol\":\"Ethanol\", \n",
    "                \"2-Propanol\":\"2-Propanol\", \n",
    "                \"Toluene\":\"Toluene\", \n",
    "                \"Heptane\":\"Heptane\", \n",
    "                \"Acetone\":\"Acetone\", \n",
    "                \"Acetonitrile\":\"Acetonitrile\", \n",
    "                \"Methyl tert butyl ether\":\"Methyl\\ntert-butyl ether\", \n",
    "                \"2-Methly tetrahydrofurane\":\"2-Methyl\\ntetrahydrofurane\",\n",
    "                \"Dimethyl formamide\":\"Dimethyl\\nformamide\", \n",
    "                \"Etyl acetate\":\"Ethyl\\nacetate\" }\n",
    "\n",
    "solvent_dict = {}\n",
    "for solvent, name in zip(solvents, solvent_names.keys()):\n",
    "    solvent_dict[solvent] = original[original['solvent_name']==name]"
   ]
  },
  {
   "cell_type": "code",
   "execution_count": 17,
   "metadata": {},
   "outputs": [],
   "source": [
    "# we a need a test and a train dataset\n",
    "\n",
    "for key, name in zip(solvent_dict.keys(), solvent_names.keys()):   \n",
    "    test = solvent_dict[key]\n",
    "    train = original[original['solvent_name']!=name]\n",
    "    test.to_csv(f'./data/test/split_test/{key}_test.csv')\n",
    "    train.to_csv(f'./data/test/split_test/{key}_train.csv')\n"
   ]
  }
 ],
 "metadata": {
  "kernelspec": {
   "display_name": "Python 3.7.11 ('cuda-torch')",
   "language": "python",
   "name": "python3"
  },
  "language_info": {
   "codemirror_mode": {
    "name": "ipython",
    "version": 3
   },
   "file_extension": ".py",
   "mimetype": "text/x-python",
   "name": "python",
   "nbconvert_exporter": "python",
   "pygments_lexer": "ipython3",
   "version": "3.7.11"
  },
  "orig_nbformat": 4,
  "vscode": {
   "interpreter": {
    "hash": "28033ce296e8bccd2de38399e0aad99caad09b14a4fbb3eb2f4b389d5502d07e"
   }
  }
 },
 "nbformat": 4,
 "nbformat_minor": 2
}
