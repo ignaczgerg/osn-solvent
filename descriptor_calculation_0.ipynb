{
 "cells": [
  {
   "cell_type": "code",
   "execution_count": 2,
   "metadata": {},
   "outputs": [],
   "source": [
    "import mordred\n",
    "import pandas as pd\n",
    "import numpy as np \n",
    "import matplotlib.pyplot as plt \n",
    "from mordred import Calculator, descriptors\n",
    "from rdkit import Chem"
   ]
  },
  {
   "cell_type": "code",
   "execution_count": 3,
   "metadata": {},
   "outputs": [],
   "source": [
    "main = pd.read_csv(r\"./data/main.csv\")"
   ]
  },
  {
   "cell_type": "code",
   "execution_count": 4,
   "metadata": {},
   "outputs": [
    {
     "data": {
      "text/html": [
       "<div>\n",
       "<style scoped>\n",
       "    .dataframe tbody tr th:only-of-type {\n",
       "        vertical-align: middle;\n",
       "    }\n",
       "\n",
       "    .dataframe tbody tr th {\n",
       "        vertical-align: top;\n",
       "    }\n",
       "\n",
       "    .dataframe thead th {\n",
       "        text-align: right;\n",
       "    }\n",
       "</style>\n",
       "<table border=\"1\" class=\"dataframe\">\n",
       "  <thead>\n",
       "    <tr style=\"text-align: right;\">\n",
       "      <th></th>\n",
       "      <th>name</th>\n",
       "      <th>container</th>\n",
       "      <th>cas</th>\n",
       "      <th>mw</th>\n",
       "      <th>solute-smiles</th>\n",
       "      <th>solvent-smiles</th>\n",
       "      <th>solvent-name</th>\n",
       "      <th>dm300</th>\n",
       "      <th>dm300-error</th>\n",
       "    </tr>\n",
       "  </thead>\n",
       "  <tbody>\n",
       "    <tr>\n",
       "      <th>0</th>\n",
       "      <td>3,5-Diaminobenzoic Acid</td>\n",
       "      <td>Z1</td>\n",
       "      <td>535-87-5</td>\n",
       "      <td>152.15</td>\n",
       "      <td>O=C(O)C1=CC(N)=CC(N)=C1</td>\n",
       "      <td>CO</td>\n",
       "      <td>Methanol</td>\n",
       "      <td>0.6452</td>\n",
       "      <td>0.0230</td>\n",
       "    </tr>\n",
       "    <tr>\n",
       "      <th>1</th>\n",
       "      <td>4-Aminobenzoic acid</td>\n",
       "      <td>D2</td>\n",
       "      <td>150-13-0</td>\n",
       "      <td>137.00</td>\n",
       "      <td>Nc1ccc(cc1)C(O)=O</td>\n",
       "      <td>CO</td>\n",
       "      <td>Methanol</td>\n",
       "      <td>0.8522</td>\n",
       "      <td>0.0147</td>\n",
       "    </tr>\n",
       "    <tr>\n",
       "      <th>2</th>\n",
       "      <td>4,6-diaminoresorcinol dihydrochloride</td>\n",
       "      <td>RA15</td>\n",
       "      <td>16523-31-2</td>\n",
       "      <td>212.01</td>\n",
       "      <td>OC1=C(N)C=C(N)C(O)=C1</td>\n",
       "      <td>CO</td>\n",
       "      <td>Methanol</td>\n",
       "      <td>0.3576</td>\n",
       "      <td>0.0775</td>\n",
       "    </tr>\n",
       "    <tr>\n",
       "      <th>3</th>\n",
       "      <td>Cytosine</td>\n",
       "      <td>AP17</td>\n",
       "      <td>71-30-7</td>\n",
       "      <td>111.00</td>\n",
       "      <td>C1=C(NC(=O)N=C1)N</td>\n",
       "      <td>CO</td>\n",
       "      <td>Methanol</td>\n",
       "      <td>0.6643</td>\n",
       "      <td>0.0225</td>\n",
       "    </tr>\n",
       "    <tr>\n",
       "      <th>4</th>\n",
       "      <td>4-AMINOPYRIDINE, 98%</td>\n",
       "      <td>D6</td>\n",
       "      <td>504-24-5</td>\n",
       "      <td>94.00</td>\n",
       "      <td>Nc1ccncc1</td>\n",
       "      <td>CO</td>\n",
       "      <td>Methanol</td>\n",
       "      <td>0.1865</td>\n",
       "      <td>0.0425</td>\n",
       "    </tr>\n",
       "  </tbody>\n",
       "</table>\n",
       "</div>"
      ],
      "text/plain": [
       "                                    name container         cas      mw  \\\n",
       "0                3,5-Diaminobenzoic Acid        Z1    535-87-5  152.15   \n",
       "1                    4-Aminobenzoic acid        D2    150-13-0  137.00   \n",
       "2  4,6-diaminoresorcinol dihydrochloride      RA15  16523-31-2  212.01   \n",
       "3                               Cytosine      AP17     71-30-7  111.00   \n",
       "4                   4-AMINOPYRIDINE, 98%        D6    504-24-5   94.00   \n",
       "\n",
       "             solute-smiles solvent-smiles solvent-name   dm300  dm300-error  \n",
       "0  O=C(O)C1=CC(N)=CC(N)=C1             CO     Methanol  0.6452       0.0230  \n",
       "1        Nc1ccc(cc1)C(O)=O             CO     Methanol  0.8522       0.0147  \n",
       "2    OC1=C(N)C=C(N)C(O)=C1             CO     Methanol  0.3576       0.0775  \n",
       "3        C1=C(NC(=O)N=C1)N             CO     Methanol  0.6643       0.0225  \n",
       "4                Nc1ccncc1             CO     Methanol  0.1865       0.0425  "
      ]
     },
     "execution_count": 4,
     "metadata": {},
     "output_type": "execute_result"
    }
   ],
   "source": [
    "main.head()"
   ]
  },
  {
   "cell_type": "code",
   "execution_count": 5,
   "metadata": {},
   "outputs": [],
   "source": [
    "solute_lst = []\n",
    "for i in main[\"solute-smiles\"]:\n",
    "    solute_lst.append(i)    \n",
    "\n",
    "solvent_lst = []\n",
    "for i in main[\"solvent-smiles\"]:\n",
    "    solvent_lst.append(i)    "
   ]
  },
  {
   "cell_type": "code",
   "execution_count": 6,
   "metadata": {},
   "outputs": [
    {
     "name": "stderr",
     "output_type": "stream",
     "text": [
      "100%|██████████| 1170/1170 [00:33<00:00, 34.97it/s]\n"
     ]
    },
    {
     "name": "stdout",
     "output_type": "stream",
     "text": [
      "957\n"
     ]
    },
    {
     "name": "stderr",
     "output_type": "stream",
     "text": [
      "100%|██████████| 1170/1170 [00:14<00:00, 80.22it/s] \n"
     ]
    },
    {
     "name": "stdout",
     "output_type": "stream",
     "text": [
      "1183\n"
     ]
    }
   ],
   "source": [
    "calc = Calculator(descriptors, ignore_3D=False)\n",
    "mol_lst = [Chem.MolFromSmiles(smile) for smile in main[\"solute-smiles\"]]\n",
    "descriptors_lst_solute = calc.pandas(mol_lst)\n",
    "\n",
    "cols=descriptors_lst_solute.columns.tolist() \n",
    "descriptors_lst_solute = descriptors_lst_solute.values.astype('float32')\n",
    "descriptors_lst_solute = pd.DataFrame(descriptors_lst_solute, columns=cols)\n",
    "descriptors_lst_solute = descriptors_lst_solute.dropna(axis=1)\n",
    "print(len(descriptors_lst_solute.iloc[1]))\n",
    "\n",
    "\n",
    "\n",
    "calc = Calculator(descriptors, ignore_3D=False)\n",
    "mol_lst = [Chem.MolFromSmiles(smile) for smile in main[\"solvent-smiles\"]]\n",
    "descriptors_lst_solvent = calc.pandas(mol_lst)\n",
    "\n",
    "cols=descriptors_lst_solvent.columns.tolist() \n",
    "descriptors_lst_solvent = descriptors_lst_solvent.values.astype('float32')\n",
    "descriptors_lst_solvent = pd.DataFrame(descriptors_lst_solvent, columns=cols)\n",
    "descriptors_lst_solvent = descriptors_lst_solvent.dropna(axis=1)\n",
    "print(len(descriptors_lst_solvent.iloc[1]))"
   ]
  },
  {
   "cell_type": "code",
   "execution_count": 7,
   "metadata": {},
   "outputs": [],
   "source": [
    "total_descriptors = main.join(descriptors_lst_solute, lsuffix=\"_caller\", rsuffix='_other')\n",
    "total_descriptors = total_descriptors.join(descriptors_lst_solvent, lsuffix=\"_caller\", rsuffix='_other')"
   ]
  },
  {
   "cell_type": "code",
   "execution_count": 8,
   "metadata": {},
   "outputs": [],
   "source": [
    "total_descriptors.to_csv(r'./data/_descriptors.csv', sep=',')"
   ]
  },
  {
   "cell_type": "code",
   "execution_count": 9,
   "metadata": {},
   "outputs": [
    {
     "data": {
      "text/html": [
       "<div>\n",
       "<style scoped>\n",
       "    .dataframe tbody tr th:only-of-type {\n",
       "        vertical-align: middle;\n",
       "    }\n",
       "\n",
       "    .dataframe tbody tr th {\n",
       "        vertical-align: top;\n",
       "    }\n",
       "\n",
       "    .dataframe thead th {\n",
       "        text-align: right;\n",
       "    }\n",
       "</style>\n",
       "<table border=\"1\" class=\"dataframe\">\n",
       "  <thead>\n",
       "    <tr style=\"text-align: right;\">\n",
       "      <th></th>\n",
       "      <th>name</th>\n",
       "      <th>container</th>\n",
       "      <th>cas</th>\n",
       "      <th>mw</th>\n",
       "      <th>solute-smiles</th>\n",
       "      <th>solvent-smiles</th>\n",
       "      <th>solvent-name</th>\n",
       "      <th>dm300</th>\n",
       "      <th>dm300-error</th>\n",
       "      <th>ABC_caller</th>\n",
       "      <th>...</th>\n",
       "      <th>SRW10_other</th>\n",
       "      <th>TSRW10_other</th>\n",
       "      <th>MW_other</th>\n",
       "      <th>AMW_other</th>\n",
       "      <th>WPath_other</th>\n",
       "      <th>WPol_other</th>\n",
       "      <th>Zagreb1_other</th>\n",
       "      <th>Zagreb2_other</th>\n",
       "      <th>mZagreb1</th>\n",
       "      <th>mZagreb2_other</th>\n",
       "    </tr>\n",
       "  </thead>\n",
       "  <tbody>\n",
       "    <tr>\n",
       "      <th>0</th>\n",
       "      <td>3,5-Diaminobenzoic Acid</td>\n",
       "      <td>Z1</td>\n",
       "      <td>535-87-5</td>\n",
       "      <td>152.15</td>\n",
       "      <td>O=C(O)C1=CC(N)=CC(N)=C1</td>\n",
       "      <td>CO</td>\n",
       "      <td>Methanol</td>\n",
       "      <td>0.6452</td>\n",
       "      <td>0.0230</td>\n",
       "      <td>8.175294</td>\n",
       "      <td>...</td>\n",
       "      <td>1.098612</td>\n",
       "      <td>7.493062</td>\n",
       "      <td>32.026215</td>\n",
       "      <td>5.337702</td>\n",
       "      <td>1.0</td>\n",
       "      <td>0.0</td>\n",
       "      <td>2.0</td>\n",
       "      <td>1.0</td>\n",
       "      <td>2.0</td>\n",
       "      <td>1.0</td>\n",
       "    </tr>\n",
       "    <tr>\n",
       "      <th>1</th>\n",
       "      <td>4-Aminobenzoic acid</td>\n",
       "      <td>D2</td>\n",
       "      <td>150-13-0</td>\n",
       "      <td>137.00</td>\n",
       "      <td>Nc1ccc(cc1)C(O)=O</td>\n",
       "      <td>CO</td>\n",
       "      <td>Methanol</td>\n",
       "      <td>0.8522</td>\n",
       "      <td>0.0147</td>\n",
       "      <td>7.358797</td>\n",
       "      <td>...</td>\n",
       "      <td>1.098612</td>\n",
       "      <td>7.493062</td>\n",
       "      <td>32.026215</td>\n",
       "      <td>5.337702</td>\n",
       "      <td>1.0</td>\n",
       "      <td>0.0</td>\n",
       "      <td>2.0</td>\n",
       "      <td>1.0</td>\n",
       "      <td>2.0</td>\n",
       "      <td>1.0</td>\n",
       "    </tr>\n",
       "    <tr>\n",
       "      <th>2</th>\n",
       "      <td>4,6-diaminoresorcinol dihydrochloride</td>\n",
       "      <td>RA15</td>\n",
       "      <td>16523-31-2</td>\n",
       "      <td>212.01</td>\n",
       "      <td>OC1=C(N)C=C(N)C(O)=C1</td>\n",
       "      <td>CO</td>\n",
       "      <td>Methanol</td>\n",
       "      <td>0.3576</td>\n",
       "      <td>0.0775</td>\n",
       "      <td>7.427747</td>\n",
       "      <td>...</td>\n",
       "      <td>1.098612</td>\n",
       "      <td>7.493062</td>\n",
       "      <td>32.026215</td>\n",
       "      <td>5.337702</td>\n",
       "      <td>1.0</td>\n",
       "      <td>0.0</td>\n",
       "      <td>2.0</td>\n",
       "      <td>1.0</td>\n",
       "      <td>2.0</td>\n",
       "      <td>1.0</td>\n",
       "    </tr>\n",
       "    <tr>\n",
       "      <th>3</th>\n",
       "      <td>Cytosine</td>\n",
       "      <td>AP17</td>\n",
       "      <td>71-30-7</td>\n",
       "      <td>111.00</td>\n",
       "      <td>C1=C(NC(=O)N=C1)N</td>\n",
       "      <td>CO</td>\n",
       "      <td>Methanol</td>\n",
       "      <td>0.6643</td>\n",
       "      <td>0.0225</td>\n",
       "      <td>5.875634</td>\n",
       "      <td>...</td>\n",
       "      <td>1.098612</td>\n",
       "      <td>7.493062</td>\n",
       "      <td>32.026215</td>\n",
       "      <td>5.337702</td>\n",
       "      <td>1.0</td>\n",
       "      <td>0.0</td>\n",
       "      <td>2.0</td>\n",
       "      <td>1.0</td>\n",
       "      <td>2.0</td>\n",
       "      <td>1.0</td>\n",
       "    </tr>\n",
       "    <tr>\n",
       "      <th>4</th>\n",
       "      <td>4-AMINOPYRIDINE, 98%</td>\n",
       "      <td>D6</td>\n",
       "      <td>504-24-5</td>\n",
       "      <td>94.00</td>\n",
       "      <td>Nc1ccncc1</td>\n",
       "      <td>CO</td>\n",
       "      <td>Methanol</td>\n",
       "      <td>0.1865</td>\n",
       "      <td>0.0425</td>\n",
       "      <td>5.059137</td>\n",
       "      <td>...</td>\n",
       "      <td>1.098612</td>\n",
       "      <td>7.493062</td>\n",
       "      <td>32.026215</td>\n",
       "      <td>5.337702</td>\n",
       "      <td>1.0</td>\n",
       "      <td>0.0</td>\n",
       "      <td>2.0</td>\n",
       "      <td>1.0</td>\n",
       "      <td>2.0</td>\n",
       "      <td>1.0</td>\n",
       "    </tr>\n",
       "  </tbody>\n",
       "</table>\n",
       "<p>5 rows × 2149 columns</p>\n",
       "</div>"
      ],
      "text/plain": [
       "                                    name container         cas      mw  \\\n",
       "0                3,5-Diaminobenzoic Acid        Z1    535-87-5  152.15   \n",
       "1                    4-Aminobenzoic acid        D2    150-13-0  137.00   \n",
       "2  4,6-diaminoresorcinol dihydrochloride      RA15  16523-31-2  212.01   \n",
       "3                               Cytosine      AP17     71-30-7  111.00   \n",
       "4                   4-AMINOPYRIDINE, 98%        D6    504-24-5   94.00   \n",
       "\n",
       "             solute-smiles solvent-smiles solvent-name   dm300  dm300-error  \\\n",
       "0  O=C(O)C1=CC(N)=CC(N)=C1             CO     Methanol  0.6452       0.0230   \n",
       "1        Nc1ccc(cc1)C(O)=O             CO     Methanol  0.8522       0.0147   \n",
       "2    OC1=C(N)C=C(N)C(O)=C1             CO     Methanol  0.3576       0.0775   \n",
       "3        C1=C(NC(=O)N=C1)N             CO     Methanol  0.6643       0.0225   \n",
       "4                Nc1ccncc1             CO     Methanol  0.1865       0.0425   \n",
       "\n",
       "   ABC_caller  ...  SRW10_other  TSRW10_other   MW_other  AMW_other  \\\n",
       "0    8.175294  ...     1.098612      7.493062  32.026215   5.337702   \n",
       "1    7.358797  ...     1.098612      7.493062  32.026215   5.337702   \n",
       "2    7.427747  ...     1.098612      7.493062  32.026215   5.337702   \n",
       "3    5.875634  ...     1.098612      7.493062  32.026215   5.337702   \n",
       "4    5.059137  ...     1.098612      7.493062  32.026215   5.337702   \n",
       "\n",
       "   WPath_other  WPol_other  Zagreb1_other  Zagreb2_other  mZagreb1  \\\n",
       "0          1.0         0.0            2.0            1.0       2.0   \n",
       "1          1.0         0.0            2.0            1.0       2.0   \n",
       "2          1.0         0.0            2.0            1.0       2.0   \n",
       "3          1.0         0.0            2.0            1.0       2.0   \n",
       "4          1.0         0.0            2.0            1.0       2.0   \n",
       "\n",
       "   mZagreb2_other  \n",
       "0             1.0  \n",
       "1             1.0  \n",
       "2             1.0  \n",
       "3             1.0  \n",
       "4             1.0  \n",
       "\n",
       "[5 rows x 2149 columns]"
      ]
     },
     "execution_count": 9,
     "metadata": {},
     "output_type": "execute_result"
    }
   ],
   "source": [
    "total_descriptors.head()"
   ]
  },
  {
   "cell_type": "code",
   "execution_count": 10,
   "metadata": {},
   "outputs": [
    {
     "data": {
      "text/plain": [
       "95"
      ]
     },
     "execution_count": 10,
     "metadata": {},
     "output_type": "execute_result"
    }
   ],
   "source": [
    "total_descriptors.isnull().sum().sum()"
   ]
  },
  {
   "cell_type": "code",
   "execution_count": 17,
   "metadata": {},
   "outputs": [
    {
     "data": {
      "text/plain": [
       "1"
      ]
     },
     "execution_count": 17,
     "metadata": {},
     "output_type": "execute_result"
    }
   ],
   "source": [
    "total_descriptors['dm300-error'].isnull().sum()"
   ]
  },
  {
   "cell_type": "code",
   "execution_count": 22,
   "metadata": {},
   "outputs": [
    {
     "data": {
      "text/plain": [
       "0        8.175294\n",
       "1        7.358797\n",
       "2        7.427747\n",
       "3        5.875634\n",
       "4        5.059137\n",
       "          ...    \n",
       "1165    13.760206\n",
       "1166    17.523609\n",
       "1167    11.546284\n",
       "1168    11.546284\n",
       "1169    11.141621\n",
       "Name: ABC_caller, Length: 1170, dtype: float32"
      ]
     },
     "execution_count": 22,
     "metadata": {},
     "output_type": "execute_result"
    }
   ],
   "source": [
    "total_descriptors.iloc[:,9]"
   ]
  },
  {
   "cell_type": "code",
   "execution_count": null,
   "metadata": {},
   "outputs": [],
   "source": []
  }
 ],
 "metadata": {
  "kernelspec": {
   "display_name": "Python 3.8.10 ('mordred')",
   "language": "python",
   "name": "python3"
  },
  "language_info": {
   "codemirror_mode": {
    "name": "ipython",
    "version": 3
   },
   "file_extension": ".py",
   "mimetype": "text/x-python",
   "name": "python",
   "nbconvert_exporter": "python",
   "pygments_lexer": "ipython3",
   "version": "3.8.10"
  },
  "orig_nbformat": 4,
  "vscode": {
   "interpreter": {
    "hash": "0aa4e8675c74d088667059faeed7c79ff4d12df709bae3274d15508dcd405ce4"
   }
  }
 },
 "nbformat": 4,
 "nbformat_minor": 2
}
