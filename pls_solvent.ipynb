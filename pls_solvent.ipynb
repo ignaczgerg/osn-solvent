{
 "cells": [
  {
   "cell_type": "code",
   "execution_count": 71,
   "metadata": {},
   "outputs": [],
   "source": [
    "import pandas as pd\n",
    "import numpy as np\n",
    "from sklearn.cross_decomposition import PLSRegression\n",
    "from sklearn.linear_model import LinearRegression"
   ]
  },
  {
   "cell_type": "code",
   "execution_count": 60,
   "metadata": {},
   "outputs": [],
   "source": [
    "main = pd.read_csv(r\"./data/solvent_properties.csv\")"
   ]
  },
  {
   "cell_type": "code",
   "execution_count": 36,
   "metadata": {},
   "outputs": [
    {
     "data": {
      "text/html": [
       "<div>\n",
       "<style scoped>\n",
       "    .dataframe tbody tr th:only-of-type {\n",
       "        vertical-align: middle;\n",
       "    }\n",
       "\n",
       "    .dataframe tbody tr th {\n",
       "        vertical-align: top;\n",
       "    }\n",
       "\n",
       "    .dataframe thead th {\n",
       "        text-align: right;\n",
       "    }\n",
       "</style>\n",
       "<table border=\"1\" class=\"dataframe\">\n",
       "  <thead>\n",
       "    <tr style=\"text-align: right;\">\n",
       "      <th></th>\n",
       "      <th>name</th>\n",
       "      <th>rejection</th>\n",
       "      <th>mw</th>\n",
       "      <th>bp</th>\n",
       "      <th>mp</th>\n",
       "      <th>density</th>\n",
       "      <th>vp</th>\n",
       "      <th>dipole</th>\n",
       "      <th>dielectric</th>\n",
       "      <th>viscosity</th>\n",
       "      <th>refractive</th>\n",
       "      <th>dimroth</th>\n",
       "      <th>mv</th>\n",
       "      <th>hilderbrand</th>\n",
       "      <th>dt</th>\n",
       "      <th>dp</th>\n",
       "      <th>dh</th>\n",
       "      <th>logp</th>\n",
       "    </tr>\n",
       "  </thead>\n",
       "  <tbody>\n",
       "    <tr>\n",
       "      <th>0</th>\n",
       "      <td>methanol</td>\n",
       "      <td>0.684</td>\n",
       "      <td>32.04</td>\n",
       "      <td>64.6</td>\n",
       "      <td>-98.0</td>\n",
       "      <td>0.791</td>\n",
       "      <td>128.0</td>\n",
       "      <td>1.60</td>\n",
       "      <td>33.0</td>\n",
       "      <td>0.54</td>\n",
       "      <td>1.328</td>\n",
       "      <td>55.4</td>\n",
       "      <td>40.5</td>\n",
       "      <td>14.5</td>\n",
       "      <td>7.4</td>\n",
       "      <td>6.0</td>\n",
       "      <td>10.9</td>\n",
       "      <td>-0.82</td>\n",
       "    </tr>\n",
       "    <tr>\n",
       "      <th>1</th>\n",
       "      <td>ethanol</td>\n",
       "      <td>0.652</td>\n",
       "      <td>40.07</td>\n",
       "      <td>78.5</td>\n",
       "      <td>-114.1</td>\n",
       "      <td>0.789</td>\n",
       "      <td>59.0</td>\n",
       "      <td>1.70</td>\n",
       "      <td>24.0</td>\n",
       "      <td>1.08</td>\n",
       "      <td>1.361</td>\n",
       "      <td>51.9</td>\n",
       "      <td>58.4</td>\n",
       "      <td>13.4</td>\n",
       "      <td>7.7</td>\n",
       "      <td>4.3</td>\n",
       "      <td>9.5</td>\n",
       "      <td>-0.32</td>\n",
       "    </tr>\n",
       "    <tr>\n",
       "      <th>2</th>\n",
       "      <td>2-propanol</td>\n",
       "      <td>0.484</td>\n",
       "      <td>60.10</td>\n",
       "      <td>97.0</td>\n",
       "      <td>-126.0</td>\n",
       "      <td>0.803</td>\n",
       "      <td>21.0</td>\n",
       "      <td>1.68</td>\n",
       "      <td>22.0</td>\n",
       "      <td>1.95</td>\n",
       "      <td>1.377</td>\n",
       "      <td>49.2</td>\n",
       "      <td>76.4</td>\n",
       "      <td>11.5</td>\n",
       "      <td>7.7</td>\n",
       "      <td>3.0</td>\n",
       "      <td>8.0</td>\n",
       "      <td>0.26</td>\n",
       "    </tr>\n",
       "    <tr>\n",
       "      <th>3</th>\n",
       "      <td>acetone</td>\n",
       "      <td>0.760</td>\n",
       "      <td>58.80</td>\n",
       "      <td>56.2</td>\n",
       "      <td>-94.3</td>\n",
       "      <td>0.786</td>\n",
       "      <td>240.0</td>\n",
       "      <td>2.85</td>\n",
       "      <td>21.0</td>\n",
       "      <td>0.30</td>\n",
       "      <td>1.359</td>\n",
       "      <td>42.2</td>\n",
       "      <td>73.3</td>\n",
       "      <td>10.0</td>\n",
       "      <td>7.6</td>\n",
       "      <td>5.1</td>\n",
       "      <td>3.4</td>\n",
       "      <td>-0.24</td>\n",
       "    </tr>\n",
       "    <tr>\n",
       "      <th>4</th>\n",
       "      <td>acetonitrile</td>\n",
       "      <td>0.738</td>\n",
       "      <td>41.05</td>\n",
       "      <td>81.6</td>\n",
       "      <td>-46.0</td>\n",
       "      <td>0.786</td>\n",
       "      <td>97.0</td>\n",
       "      <td>3.50</td>\n",
       "      <td>37.5</td>\n",
       "      <td>0.38</td>\n",
       "      <td>1.344</td>\n",
       "      <td>45.6</td>\n",
       "      <td>52.5</td>\n",
       "      <td>11.9</td>\n",
       "      <td>7.5</td>\n",
       "      <td>8.8</td>\n",
       "      <td>3.0</td>\n",
       "      <td>-0.34</td>\n",
       "    </tr>\n",
       "  </tbody>\n",
       "</table>\n",
       "</div>"
      ],
      "text/plain": [
       "           name  rejection     mw    bp     mp  density     vp  dipole  \\\n",
       "0      methanol      0.684  32.04  64.6  -98.0    0.791  128.0    1.60   \n",
       "1       ethanol      0.652  40.07  78.5 -114.1    0.789   59.0    1.70   \n",
       "2    2-propanol      0.484  60.10  97.0 -126.0    0.803   21.0    1.68   \n",
       "3       acetone      0.760  58.80  56.2  -94.3    0.786  240.0    2.85   \n",
       "4  acetonitrile      0.738  41.05  81.6  -46.0    0.786   97.0    3.50   \n",
       "\n",
       "   dielectric  viscosity  refractive  dimroth    mv  hilderbrand   dt   dp  \\\n",
       "0        33.0       0.54       1.328     55.4  40.5         14.5  7.4  6.0   \n",
       "1        24.0       1.08       1.361     51.9  58.4         13.4  7.7  4.3   \n",
       "2        22.0       1.95       1.377     49.2  76.4         11.5  7.7  3.0   \n",
       "3        21.0       0.30       1.359     42.2  73.3         10.0  7.6  5.1   \n",
       "4        37.5       0.38       1.344     45.6  52.5         11.9  7.5  8.8   \n",
       "\n",
       "     dh  logp  \n",
       "0  10.9 -0.82  \n",
       "1   9.5 -0.32  \n",
       "2   8.0  0.26  \n",
       "3   3.4 -0.24  \n",
       "4   3.0 -0.34  "
      ]
     },
     "execution_count": 36,
     "metadata": {},
     "output_type": "execute_result"
    }
   ],
   "source": [
    "solvent.head()"
   ]
  },
  {
   "cell_type": "code",
   "execution_count": null,
   "metadata": {},
   "outputs": [
    {
     "data": {
      "text/plain": [
       "6"
      ]
     },
     "metadata": {},
     "output_type": "display_data"
    }
   ],
   "source": [
    "len(axes[0])"
   ]
  },
  {
   "cell_type": "code",
   "execution_count": 4,
   "metadata": {},
   "outputs": [],
   "source": [
    "label = solvent.pop(\"rejection\")"
   ]
  },
  {
   "cell_type": "code",
   "execution_count": 25,
   "metadata": {},
   "outputs": [],
   "source": [
    "X = solvent.iloc[:,1:]"
   ]
  },
  {
   "cell_type": "code",
   "execution_count": 9,
   "metadata": {},
   "outputs": [
    {
     "data": {
      "text/plain": [
       "PLSRegression()"
      ]
     },
     "execution_count": 9,
     "metadata": {},
     "output_type": "execute_result"
    }
   ],
   "source": [
    "pls2 = PLSRegression(n_components=2)\n",
    "pls2.fit(X, label)\n"
   ]
  },
  {
   "cell_type": "code",
   "execution_count": 10,
   "metadata": {},
   "outputs": [],
   "source": [
    "Y_pred = pls2.predict(X)"
   ]
  },
  {
   "cell_type": "code",
   "execution_count": 12,
   "metadata": {},
   "outputs": [],
   "source": [
    "import matplotlib.pyplot as plt"
   ]
  },
  {
   "cell_type": "code",
   "execution_count": 13,
   "metadata": {},
   "outputs": [
    {
     "data": {
      "text/plain": [
       "<matplotlib.collections.PathCollection at 0x1226b3550>"
      ]
     },
     "execution_count": 13,
     "metadata": {},
     "output_type": "execute_result"
    },
    {
     "data": {
      "image/png": "[encoded data removed]",
      "text/plain": [
       "<Figure size 432x288 with 1 Axes>"
      ]
     },
     "metadata": {
      "needs_background": "light"
     },
     "output_type": "display_data"
    }
   ],
   "source": [
    "plt.scatter(Y_pred, label)"
   ]
  },
  {
   "cell_type": "code",
   "execution_count": 74,
   "metadata": {},
   "outputs": [],
   "source": [
    "results = []\n",
    "for i in range(11):\n",
    "    solvent = pd.read_csv(r\"./data/solvent_properties.csv\")\n",
    "    labels = solvent.pop(\"rejection\")\n",
    "    X = solvent.iloc[:,1:]\n",
    "    X_t = X.T\n",
    "    test_X = X_t.pop(i)\n",
    "    X = X_t.T\n",
    "    labels_test = labels.pop(i)\n",
    "    pls2 = PLSRegression()\n",
    "    pls2.fit(X, labels) \n",
    "    test_X = test_X.to_numpy().reshape(1,-1)\n",
    "    Y_pred = pls2.predict(test_X)\n",
    "    results.append(Y_pred)\n"
   ]
  },
  {
   "cell_type": "code",
   "execution_count": 75,
   "metadata": {},
   "outputs": [
    {
     "data": {
      "text/plain": [
       "<matplotlib.collections.PathCollection at 0x123365d90>"
      ]
     },
     "execution_count": 75,
     "metadata": {},
     "output_type": "execute_result"
    },
    {
     "data": {
      "image/png": "[encoded data removed]",
      "text/plain": [
       "<Figure size 432x288 with 1 Axes>"
      ]
     },
     "metadata": {
      "needs_background": "light"
     },
     "output_type": "display_data"
    }
   ],
   "source": [
    "plt.scatter(results, main['rejection'])"
   ]
  },
  {
   "cell_type": "code",
   "execution_count": null,
   "metadata": {},
   "outputs": [],
   "source": []
  }
 ],
 "metadata": {
  "kernelspec": {
   "display_name": "Python 3.8.10 ('mordred')",
   "language": "python",
   "name": "python3"
  },
  "language_info": {
   "codemirror_mode": {
    "name": "ipython",
    "version": 3
   },
   "file_extension": ".py",
   "mimetype": "text/x-python",
   "name": "python",
   "nbconvert_exporter": "python",
   "pygments_lexer": "ipython3",
   "version": "3.8.10"
  },
  "orig_nbformat": 4,
  "vscode": {
   "interpreter": {
    "hash": "0aa4e8675c74d088667059faeed7c79ff4d12df709bae3274d15508dcd405ce4"
   }
  }
 },
 "nbformat": 4,
 "nbformat_minor": 2
}
