{
 "cells": [
  {
   "cell_type": "code",
   "execution_count": 175,
   "metadata": {},
   "outputs": [],
   "source": [
    "import mordred\n",
    "import pandas as pd\n",
    "import numpy as np \n",
    "import matplotlib.pyplot as plt \n",
    "from mordred import Calculator, descriptors\n",
    "from rdkit import Chem"
   ]
  },
  {
   "cell_type": "code",
   "execution_count": 176,
   "metadata": {},
   "outputs": [],
   "source": [
    "main = pd.read_csv(r\"./data/train_dm300_full.csv\")"
   ]
  },
  {
   "cell_type": "code",
   "execution_count": 139,
   "metadata": {},
   "outputs": [],
   "source": [
    "solvents = [\"MeOH\", \"EtOH\", \"IPA\", \"Tol\", \"Hept\", \"Acet\", \"MeCN\", \"MTBE\", \"MeTHF\", \"DMF\", \"EtOAc\"]\n",
    "solvent_names = {\"Methanol\":\"Methanol\", \n",
    "                \"Ethanol\":\"Ethanol\", \n",
    "                \"2-Propanol\":\"2-Propanol\", \n",
    "                \"Toluene\":\"Toluene\", \n",
    "                \"Heptane\":\"Heptane\", \n",
    "                \"Acetone\":\"Acetone\", \n",
    "                \"Acetonitrile\":\"Acetonitrile\", \n",
    "                \"Methyl tert butyl ether\":\"Methyl\\ntert-butyl ether\", \n",
    "                \"2-Methly tetrahydrofurane\":\"2-Methyl\\ntetrahydrofurane\",\n",
    "                \"Dimethyl formamide\":\"Dimethyl\\nformamide\", \n",
    "                \"Etyl acetate\":\"Ethyl\\nacetate\" }\n",
    "\n",
    "solvent_dict = {}\n",
    "for solvent, name in zip(solvents, solvent_names.keys()):\n",
    "    solvent_dict[solvent] = main[main['solvent_name']==name]"
   ]
  },
  {
   "cell_type": "code",
   "execution_count": 140,
   "metadata": {},
   "outputs": [],
   "source": [
    "def descriptors_calculator(key: str, dframe: pd.DataFrame):\n",
    "    calc = Calculator(descriptors, ignore_3D=False)\n",
    "    mol_lst = [Chem.MolFromSmiles(smile) for smile in dframe[key][\"solute_smiles\"]]\n",
    "    descriptors_lst_solute = calc.pandas(mol_lst)\n",
    "    cols=descriptors_lst_solute.columns.tolist() \n",
    "    descriptors_lst_solute = descriptors_lst_solute.values.astype('float32')\n",
    "    descriptors_lst_solute = pd.DataFrame(descriptors_lst_solute, columns=cols)\n",
    "    descriptors_lst_solute = descriptors_lst_solute.dropna(axis=1)\n",
    "    indx = pd.Series(dframe[key].index)\n",
    "    descriptors_lst_solute.set_index(indx, inplace=True)\n",
    "    total_descriptors = dframe[key].join(descriptors_lst_solute)\n",
    "    total_descriptors.to_csv(r'./data/pls/raw/'+key+'_descriptors.csv', sep=',')\n",
    "    print(key + \": \" + str(len(descriptors_lst_solute.columns)))\n"
   ]
  },
  {
   "cell_type": "code",
   "execution_count": 141,
   "metadata": {},
   "outputs": [
    {
     "name": "stderr",
     "output_type": "stream",
     "text": [
      "100%|██████████| 417/417 [00:11<00:00, 36.12it/s]\n"
     ]
    },
    {
     "name": "stdout",
     "output_type": "stream",
     "text": [
      "MeOH: 1243\n"
     ]
    },
    {
     "name": "stderr",
     "output_type": "stream",
     "text": [
      "100%|██████████| 56/56 [00:02<00:00, 19.96it/s]\n"
     ]
    },
    {
     "name": "stdout",
     "output_type": "stream",
     "text": [
      "EtOH: 1292\n"
     ]
    },
    {
     "name": "stderr",
     "output_type": "stream",
     "text": [
      "100%|██████████| 57/57 [00:02<00:00, 20.99it/s]"
     ]
    },
    {
     "name": "stdout",
     "output_type": "stream",
     "text": [
      "IPA: 1292\n"
     ]
    },
    {
     "name": "stderr",
     "output_type": "stream",
     "text": [
      "\n",
      "100%|██████████| 48/48 [00:01<00:00, 26.62it/s]"
     ]
    },
    {
     "name": "stdout",
     "output_type": "stream",
     "text": [
      "Tol: 1295\n"
     ]
    },
    {
     "name": "stderr",
     "output_type": "stream",
     "text": [
      "\n",
      "100%|██████████| 49/49 [00:01<00:00, 28.43it/s]"
     ]
    },
    {
     "name": "stdout",
     "output_type": "stream",
     "text": [
      "Hept: 1243\n"
     ]
    },
    {
     "name": "stderr",
     "output_type": "stream",
     "text": [
      "\n",
      "100%|██████████| 96/96 [00:03<00:00, 28.09it/s]\n"
     ]
    },
    {
     "name": "stdout",
     "output_type": "stream",
     "text": [
      "Acet: 1292\n"
     ]
    },
    {
     "name": "stderr",
     "output_type": "stream",
     "text": [
      "100%|██████████| 146/146 [00:04<00:00, 30.07it/s]\n"
     ]
    },
    {
     "name": "stdout",
     "output_type": "stream",
     "text": [
      "MeCN: 1292\n"
     ]
    },
    {
     "name": "stderr",
     "output_type": "stream",
     "text": [
      "100%|██████████| 51/51 [00:02<00:00, 19.12it/s]"
     ]
    },
    {
     "name": "stdout",
     "output_type": "stream",
     "text": [
      "MTBE: 1292\n"
     ]
    },
    {
     "name": "stderr",
     "output_type": "stream",
     "text": [
      "\n",
      "100%|██████████| 59/59 [00:02<00:00, 20.77it/s]"
     ]
    },
    {
     "name": "stdout",
     "output_type": "stream",
     "text": [
      "MeTHF: 1292\n"
     ]
    },
    {
     "name": "stderr",
     "output_type": "stream",
     "text": [
      "\n",
      "100%|██████████| 123/123 [00:04<00:00, 26.61it/s]\n"
     ]
    },
    {
     "name": "stdout",
     "output_type": "stream",
     "text": [
      "DMF: 1243\n"
     ]
    },
    {
     "name": "stderr",
     "output_type": "stream",
     "text": [
      "100%|██████████| 65/65 [00:02<00:00, 25.81it/s]"
     ]
    },
    {
     "name": "stdout",
     "output_type": "stream",
     "text": [
      "EtOAc: 1292\n"
     ]
    },
    {
     "name": "stderr",
     "output_type": "stream",
     "text": [
      "\n"
     ]
    }
   ],
   "source": [
    "for key in solvents:\n",
    "    descriptors_calculator(key, solvent_dict)"
   ]
  },
  {
   "cell_type": "code",
   "execution_count": 136,
   "metadata": {},
   "outputs": [
    {
     "name": "stderr",
     "output_type": "stream",
     "text": [
      "100%|██████████| 148/148 [00:05<00:00, 29.45it/s]\n"
     ]
    }
   ],
   "source": [
    "calc = Calculator(descriptors, ignore_3D=False)\n",
    "mol_lst = [Chem.MolFromSmiles(smile) for smile in solvent_dict['MeCN'][\"solute_smiles\"]]\n",
    "descriptors_lst_solute = calc.pandas(mol_lst)\n",
    "indx = pd.Series(solvent_dict['MeCN'].index)\n",
    "descriptors_lst_solute.set_index(indx, inplace=True)\n",
    "total_descriptors = solvent_dict['MeCN'].join(descriptors_lst_solute)"
   ]
  },
  {
   "cell_type": "code",
   "execution_count": 137,
   "metadata": {},
   "outputs": [],
   "source": [
    "total_descriptors.to_csv(r'./data/pls/raw/mecn_full.csv')"
   ]
  },
  {
   "cell_type": "code",
   "execution_count": 145,
   "metadata": {},
   "outputs": [],
   "source": [
    "reduced_solvent_list = {}\n",
    "for solvent in solvents:\n",
    "    reduced_solvent_list[solvent] = pd.read_csv(r\"./data/pls/removed/\" + solvent + \".csv\")"
   ]
  },
  {
   "cell_type": "code",
   "execution_count": 161,
   "metadata": {},
   "outputs": [],
   "source": [
    "merged_solvents = pd.DataFrame(columns=[\"name\",\"container\",\"cas\",\"mw\",\"solute_smiles\",\"solvent_smiles\",\"dm300\",\"dm300_error\"])"
   ]
  },
  {
   "cell_type": "code",
   "execution_count": 166,
   "metadata": {},
   "outputs": [],
   "source": [
    "merg = [df[[\"name\",\"container\",\"cas\",\"mw\",\"solute_smiles\",\"solvent_smiles\",\"dm300\",\"dm300_error\"]] for df in reduced_solvent_list.values()]"
   ]
  },
  {
   "cell_type": "code",
   "execution_count": 171,
   "metadata": {},
   "outputs": [],
   "source": [
    "merged_solvents = pd.concat(merg)"
   ]
  },
  {
   "cell_type": "code",
   "execution_count": 174,
   "metadata": {},
   "outputs": [],
   "source": [
    "merged_solvents.to_csv(r'./data/filtered_dm300.csv')"
   ]
  },
  {
   "cell_type": "code",
   "execution_count": 177,
   "metadata": {},
   "outputs": [
    {
     "name": "stderr",
     "output_type": "stream",
     "text": [
      "100%|██████████| 1167/1167 [00:39<00:00, 29.25it/s]\n",
      "100%|██████████| 1167/1167 [00:39<00:00, 29.23it/s]\n"
     ]
    }
   ],
   "source": [
    "calc = Calculator(descriptors, ignore_3D=False)\n",
    "mol_lst = [Chem.MolFromSmiles(smile) for smile in main[\"solute_smiles\"]]\n",
    "descriptors_lst_solute = calc.pandas(mol_lst)\n",
    "cols=descriptors_lst_solute.columns.tolist() \n",
    "descriptors_lst_solute = descriptors_lst_solute.values.astype('float32')\n",
    "descriptors_lst_solute = pd.DataFrame(descriptors_lst_solute, columns=cols)\n",
    "descriptors_lst_solute = descriptors_lst_solute.dropna(axis=1)\n",
    "\n"
   ]
  },
  {
   "cell_type": "code",
   "execution_count": 182,
   "metadata": {},
   "outputs": [
    {
     "name": "stderr",
     "output_type": "stream",
     "text": [
      "100%|██████████| 1167/1167 [00:19<00:00, 60.23it/s]\n"
     ]
    }
   ],
   "source": [
    "\n",
    "calc = Calculator(descriptors, ignore_3D=False)\n",
    "mol_lst = [Chem.MolFromSmiles(smile) for smile in main[\"solvent_smiles\"]]\n",
    "descriptors_lst_solvent = calc.pandas(mol_lst)\n",
    "cols=descriptors_lst_solvent.columns.tolist() \n",
    "descriptors_lst_solvent = descriptors_lst_solvent.values.astype('float32')\n",
    "descriptors_lst_solvent = pd.DataFrame(descriptors_lst_solvent, columns=cols)\n",
    "descriptors_lst_solvent = descriptors_lst_solvent.dropna(axis=1)\n"
   ]
  },
  {
   "cell_type": "code",
   "execution_count": 184,
   "metadata": {},
   "outputs": [
    {
     "data": {
      "text/plain": [
       "1243"
      ]
     },
     "execution_count": 184,
     "metadata": {},
     "output_type": "execute_result"
    }
   ],
   "source": [
    "len(descriptors_lst_solute.columns)"
   ]
  },
  {
   "cell_type": "markdown",
   "metadata": {},
   "source": []
  },
  {
   "cell_type": "code",
   "execution_count": 185,
   "metadata": {},
   "outputs": [
    {
     "data": {
      "text/plain": [
       "1183"
      ]
     },
     "execution_count": 185,
     "metadata": {},
     "output_type": "execute_result"
    }
   ],
   "source": [
    "len(descriptors_lst_solvent.columns)\n"
   ]
  },
  {
   "cell_type": "code",
   "execution_count": 191,
   "metadata": {},
   "outputs": [],
   "source": [
    "total_descriptors = pd.concat([descriptors_lst_solute, descriptors_lst_solvent], axis=1)"
   ]
  },
  {
   "cell_type": "code",
   "execution_count": 197,
   "metadata": {},
   "outputs": [],
   "source": [
    "total_descriptors = main.join(total_descriptors)"
   ]
  },
  {
   "cell_type": "code",
   "execution_count": 199,
   "metadata": {},
   "outputs": [],
   "source": [
    "total_descriptors.to_csv(r\"./data/total_descriptors.csv\")"
   ]
  },
  {
   "cell_type": "code",
   "execution_count": 200,
   "metadata": {},
   "outputs": [
    {
     "data": {
      "text/plain": [
       "2437"
      ]
     },
     "execution_count": 200,
     "metadata": {},
     "output_type": "execute_result"
    }
   ],
   "source": [
    "len(total_descriptors.columns)"
   ]
  },
  {
   "cell_type": "code",
   "execution_count": null,
   "metadata": {},
   "outputs": [],
   "source": []
  }
 ],
 "metadata": {
  "kernelspec": {
   "display_name": "Python 3.8.10 ('mordred')",
   "language": "python",
   "name": "python3"
  },
  "language_info": {
   "codemirror_mode": {
    "name": "ipython",
    "version": 3
   },
   "file_extension": ".py",
   "mimetype": "text/x-python",
   "name": "python",
   "nbconvert_exporter": "python",
   "pygments_lexer": "ipython3",
   "version": "3.8.10"
  },
  "orig_nbformat": 4,
  "vscode": {
   "interpreter": {
    "hash": "0aa4e8675c74d088667059faeed7c79ff4d12df709bae3274d15508dcd405ce4"
   }
  }
 },
 "nbformat": 4,
 "nbformat_minor": 2
}
